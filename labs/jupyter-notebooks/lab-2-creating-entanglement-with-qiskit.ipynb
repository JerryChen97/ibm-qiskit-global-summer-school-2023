{
 "cells": [
  {
   "cell_type": "markdown",
   "metadata": {},
   "source": [
    "# IBM's Qiskit Global Summer School 2023\n",
    "## Lab 2 - Creating Entanglement with Qiskit:\n",
    "\n",
    "- This lab demonstrates interesting properties of *entangled* qubits. In particular, we will consider two experiments:\n",
    "    - **CHSH Inequality Violation** - this shows that quantum mechanics *cannot* be explained by a local hidden variable theory;\n",
    "    - **Teleportation** - teleport an arbitrary quantum state using an entangled qubit pair as a resource.\n",
    "\n",
    "<br>\n",
    "\n",
    "- In particular, this lab demonstrates how to use new features from IBM Quantum:\n",
    "    - **Primitives** - abstract measurement and error mitigation for scalable quantum computing;\n",
    "    - **Dynamic Circuits** - mid-circuit measurement and feed-forward within the qubits' coherence time."
   ]
  },
  {
   "cell_type": "markdown",
   "metadata": {},
   "source": [
    "## Getting Started\n",
    "\n",
    "Start by importing some libraries we need, including the `Sampler` and `Estimator` primitives from IBM's Qiskit. While the primitives from `qiskit.providers` use a local statevector simulator by default, the syntax within this lab is easily generalizable to running experiments on real systems.\n",
    "\n",
    "To run on real hearware requires a IBM's Qiskit Runtime service instance. If you haven't done so already, follow the instructions in the Qiskit [Getting started guide](https://qiskit.org/documentation/partners/qiskit_ibm_runtime/getting_started.html) to set one up. After setup, import the `Sampler` and `Estimator` primitives from `qiskit_ibm_runtime` instead. Additionally we will need `QiskitRuntimeService` and `Session`, which form the interface between IBM's Qiskit and IBM's Qiskit IBM Runtime. Then the below exercises can be run on real systems by instantiating the primitives in this way (as opposed to from `qiskit.primitives`):\n",
    "\n",
    "```\n",
    "from qiskit_ibm_runtime import QiskitRuntimeService, Session, Sampler, Estimator\n",
    "\n",
    "service = QiskitRuntimeService()\n",
    "backend = service.get_backend('...')\n",
    "session = Session(service=service, backend=backend)\n",
    "sampler = Sampler(session=session)\n",
    "estimator = Estimator(session=session)\n",
    "```\n",
    "\n",
    "Where additional options can be specified in the `Sampler` and `Estimator` with the `Options` class. See this [how-to](https://qiskit.org/ecosystem/ibm-runtime/how_to/run_session.html) for using Primitives with Runtime Sessions.\n"
   ]
  },
  {
   "cell_type": "code",
   "execution_count": 1,
   "metadata": {
    "tags": []
   },
   "outputs": [],
   "source": [
    "# required import of libraries and modules\n",
    "\n",
    "# import quantum circuit from IBM's Qiskit circuit module\n",
    "from qiskit.circuit import QuantumCircuit\n",
    "\n",
    "# import estimator and sample\n",
    "# from IBM's Qiskit primitives module\n",
    "from qiskit.primitives import Estimator, Sampler\n",
    "\n",
    "# import Sparse Pauli operator\n",
    "# from IBM's Qiskit quantum information module\n",
    "from qiskit.quantum_info import SparsePauliOp\n",
    "\n",
    "# import histogram plotting\n",
    "# from IBM's Qiskit visualization module\n",
    "from qiskit.visualization import plot_histogram\n",
    "\n",
    "# import numpy\n",
    "import numpy as np\n",
    "\n",
    "# import plotting from Matplotlib's pyplot module\n",
    "import matplotlib.pyplot as plt\n",
    "\n",
    "# OPTIONAL: use the dark background style\n",
    "# for the plotting from Matplotlib's pyplot module\n",
    "plt.style.use(\"dark_background\")"
   ]
  },
  {
   "cell_type": "markdown",
   "metadata": {},
   "source": [
    "## CHSH Inequality Violation\n",
    "\n",
    "### Warm Up\n",
    "\n",
    "Create circuits that put the qubit in the excited $|1\\rangle$ and superposition $|+\\rangle$ states, respectively, and measure them in different bases. This is done first with the `Sampler` primitive (which is most similar to the `backend.run()` used in the previous lab), and then with the `Estimator` primitive to show how measurement is abstracted in that we do not need to worry about rotating the qubit into the appropriate measurement basis. The primitives will be executed withing the `Session` context which allows efficiency to optimize workloads."
   ]
  },
  {
   "cell_type": "code",
   "execution_count": 2,
   "metadata": {
    "tags": []
   },
   "outputs": [
    {
     "data": {
      "image/png": "[encoded data removed]",
      "text/plain": [
       "<Figure size 185.453x117.056 with 1 Axes>"
      ]
     },
     "execution_count": 2,
     "metadata": {},
     "output_type": "execute_result"
    }
   ],
   "source": [
    "# create an excited state |1>\n",
    "\n",
    "# create a quantum circuit for one qubit\n",
    "# and to implement an excited state |1>\n",
    "qc_1 = QuantumCircuit(1)\n",
    "\n",
    "# apply a Pauli-X (bit flip / not) gate to\n",
    "# the quantum circuit, on the 1st qubit\n",
    "qc_1.x(0)\n",
    "\n",
    "# draw the quantum circuit implementing\n",
    "# the excited state |1>\n",
    "qc_1.draw(\"mpl\")"
   ]
  },
  {
   "cell_type": "code",
   "execution_count": 3,
   "metadata": {
    "tags": []
   },
   "outputs": [
    {
     "data": {
      "image/png": "[encoded data removed]",
      "text/plain": [
       "<Figure size 185.453x117.056 with 1 Axes>"
      ]
     },
     "execution_count": 3,
     "metadata": {},
     "output_type": "execute_result"
    }
   ],
   "source": [
    "# create quantum superposition state |+>\n",
    "\n",
    "# create a quantum circuit for one qubit\n",
    "# and to implement a quantum superposition state |+>\n",
    "qc_plus = QuantumCircuit(1)\n",
    "\n",
    "# apply a Hadamard gate to\n",
    "# the quantum circuit, on the 1st qubit\n",
    "qc_plus.h(0)\n",
    "\n",
    "# draw the quantum circuit implementing\n",
    "# the quantum superposition state |+>\n",
    "qc_plus.draw(\"mpl\")"
   ]
  },
  {
   "cell_type": "markdown",
   "metadata": {},
   "source": [
    "### Sampler Primitive\n",
    "\n",
    "First use the `Sampler` to measure qubits in the $Z$-basis (the physical basis in which qubits are measured). The `Sampler` will count the number of outcomes of the $|0\\rangle$ state and $|1\\rangle$ state, normalized by the number of shots (experiments performed). The `Sampler` also offers the ability to easily perform error mitigation (which is covered in Lab 5), which modifies this calculation, and hence the outcomes are refered to as *quasi-probabilities*.\n",
    "\n",
    "Measurments must be present in the circuit when using the `Sampler` primitive. Then the `Session` context is opened, the `Sampler` is instantiated, and `sampler.run()` is used to send the circuits to the backend, similar to the `backend.run()` syntax you may already be familiar with."
   ]
  },
  {
   "cell_type": "code",
   "execution_count": 4,
   "metadata": {
    "tags": []
   },
   "outputs": [],
   "source": [
    "# measure all the qubits of\n",
    "# the quantum circuit implementing\n",
    "# an excited state |1>\n",
    "qc_1.measure_all()\n",
    "\n",
    "# measure all the qubits of\n",
    "# the quantum circuit implementing\n",
    "# a quantum superposition state |+>\n",
    "qc_plus.measure_all()\n",
    "\n",
    "# create a Sampler object\n",
    "sampler = Sampler()\n",
    "\n",
    "# create a job for the quantum circuit implementing\n",
    "# an excited state |1>, running the Sampler\n",
    "job_1 = sampler.run(qc_1)\n",
    "\n",
    "# create a job for the quantum circuit implementing\n",
    "# a quantum superposition state |+>, running the Sampler\n",
    "job_plus = sampler.run(qc_plus)"
   ]
  },
  {
   "cell_type": "code",
   "execution_count": 5,
   "metadata": {
    "tags": []
   },
   "outputs": [
    {
     "data": {
      "text/plain": [
       "[{1: 1.0, 0: 1e-20}]"
      ]
     },
     "execution_count": 5,
     "metadata": {},
     "output_type": "execute_result"
    }
   ],
   "source": [
    "# retrieve the quasi-distribution of\n",
    "# the job for the quantum circuit\n",
    "# implementing an excited state |1>\n",
    "quasi_dists_ket_1 = job_1.result().quasi_dists\n",
    "\n",
    "# fix the legend issue for\n",
    "# the quasi-distribution of the outcome 0\n",
    "quasi_dists_ket_1[0][0] = 1e-20\n",
    "\n",
    "# show the quasi-distribution of\n",
    "# the job for the quantum circuit\n",
    "# implementing an excited state |1>\n",
    "quasi_dists_ket_1"
   ]
  },
  {
   "cell_type": "code",
   "execution_count": 6,
   "metadata": {
    "tags": []
   },
   "outputs": [
    {
     "data": {
      "text/plain": [
       "[{0: 0.4999999999999999, 1: 0.4999999999999999}]"
      ]
     },
     "execution_count": 6,
     "metadata": {},
     "output_type": "execute_result"
    }
   ],
   "source": [
    "# retrieve the quasi-distribution of\n",
    "# the job for the quantum circuit implementing\n",
    "# a quantum superposition state |+>\n",
    "quasi_dists_ket_plus = job_plus.result().quasi_dists\n",
    "\n",
    "# show the quasi-distribution of\n",
    "# the job for the quantum circuit\n",
    "# implementing a quantum superposition state |+>\n",
    "quasi_dists_ket_plus"
   ]
  },
  {
   "cell_type": "code",
   "execution_count": 7,
   "metadata": {
    "tags": []
   },
   "outputs": [
    {
     "data": {
      "image/png": "[encoded data removed]",
      "text/plain": [
       "<Figure size 700x500 with 1 Axes>"
      ]
     },
     "execution_count": 7,
     "metadata": {},
     "output_type": "execute_result"
    }
   ],
   "source": [
    "# create the legend for the two quantum states\n",
    "# created before, namely the excited state |1> and\n",
    "# the quantum superposition state |+>\n",
    "legend = [\"Excited State\", \"Plus State\"]\n",
    "\n",
    "# plot the histogram for the quasi-distributions\n",
    "# for the two quantum states created before,\n",
    "# namely the excited state |1> and\n",
    "# the quantum superposition state |+>\n",
    "plot_histogram( [ quasi_dists_ket_1[0], quasi_dists_ket_plus[0] ],\n",
    "                  legend=legend, title=\"Measurement Results\\n\" )"
   ]
  },
  {
   "cell_type": "markdown",
   "metadata": {},
   "source": [
    "The result for the excited state is always $|1\\rangle$ wheres it is roughly half $|0\\rangle$ and half $|1\\rangle$ for the plus superposition state. This is because the $|0\\rangle$ and $|1\\rangle$ states are *eigenstates* of the $Z$ operator (with $+1$ and $-1$ eigenvalues, respectively).\n",
    "\n",
    "Let's switch and measure in the $X$ basis. Using the `Sampler` we must rotate the qubit from the $X$-basis to the $Z$-basis for measurement (because that is the only basis we can actually perform measurement in)."
   ]
  },
  {
   "cell_type": "code",
   "execution_count": 8,
   "metadata": {
    "tags": []
   },
   "outputs": [],
   "source": [
    "# remove all the qubits' measurements of\n",
    "# the quantum circuit implementing\n",
    "# an excited state |1>\n",
    "qc_1.remove_final_measurements()\n",
    "\n",
    "# remove all the qubits' measurements of\n",
    "# the quantum circuit implementing\n",
    "# a quantum superposition state |+>\n",
    "qc_plus.remove_final_measurements()\n",
    "\n",
    "\n",
    "# prepare the 1st qubit of the quantum circuit\n",
    "# implementing an excited state |1>,\n",
    "# for the X-Basis measurement,\n",
    "# applying a Hadamard gate\n",
    "qc_1.h(0)\n",
    "\n",
    "# prepare the 1st qubit of the quantum circuit\n",
    "# implementing a quantum superposition state |+>,\n",
    "# for the X-Basis measurement,\n",
    "# applying a Hadamard gate\n",
    "qc_plus.h(0)\n",
    "\n",
    "\n",
    "# measure all the qubits of\n",
    "# the quantum circuit implementing\n",
    "# an excited state |1>\n",
    "qc_1.measure_all()\n",
    "\n",
    "# measure all the qubits of\n",
    "# the quantum circuit implementing\n",
    "# a quantum superposition state |+>\n",
    "qc_plus.measure_all()"
   ]
  },
  {
   "cell_type": "code",
   "execution_count": 9,
   "metadata": {
    "tags": []
   },
   "outputs": [],
   "source": [
    "# create a Sampler object\n",
    "sampler = Sampler()\n",
    "\n",
    "# create a job for the quantum circuit implementing\n",
    "# an excited state |1>, running the Sampler\n",
    "job_1 = sampler.run(qc_1)\n",
    "\n",
    "# create a job for the quantum circuit implementing\n",
    "# a quantum superposition state |+>, running the Sampler\n",
    "job_plus = sampler.run(qc_plus)"
   ]
  },
  {
   "cell_type": "code",
   "execution_count": 10,
   "metadata": {
    "tags": []
   },
   "outputs": [
    {
     "data": {
      "text/plain": [
       "[{0: 0.4999999999999999, 1: 0.4999999999999999}]"
      ]
     },
     "execution_count": 10,
     "metadata": {},
     "output_type": "execute_result"
    }
   ],
   "source": [
    "# retrieve the quasi-distribution of\n",
    "# the job for the quantum circuit\n",
    "# implementing an excited state |1>,\n",
    "# measured in the X-Basis\n",
    "quasi_dists_ket_1 = job_1.result().quasi_dists\n",
    "\n",
    "# show the quasi-distribution of\n",
    "# the job for the quantum circuit\n",
    "# implementing an excited state |1>,\n",
    "# measured in the X-Basis\n",
    "quasi_dists_ket_1"
   ]
  },
  {
   "cell_type": "code",
   "execution_count": 11,
   "metadata": {
    "tags": []
   },
   "outputs": [
    {
     "data": {
      "text/plain": [
       "[{0: 0.9999999999999996, 1: 1e-20}]"
      ]
     },
     "execution_count": 11,
     "metadata": {},
     "output_type": "execute_result"
    }
   ],
   "source": [
    "# retrieve the quasi-distribution of\n",
    "# the job for the quantum circuit\n",
    "# implementing a quantum superposition state |+>,\n",
    "# measured in the X-Basis\n",
    "quasi_dists_ket_plus = job_plus.result().quasi_dists\n",
    "\n",
    "# fix the legend issue for\n",
    "# the quasi-distribution of the outcome 1\n",
    "quasi_dists_ket_plus[0][1] = 1e-20\n",
    "\n",
    "# show the quasi-distribution of\n",
    "# the job for the quantum circuit\n",
    "# implementing a quantum superposition state |+>,\n",
    "# measured in the X-Basis\n",
    "quasi_dists_ket_plus"
   ]
  },
  {
   "cell_type": "code",
   "execution_count": 12,
   "metadata": {
    "tags": []
   },
   "outputs": [
    {
     "data": {
      "image/png": "[encoded data removed]",
      "text/plain": [
       "<Figure size 700x500 with 1 Axes>"
      ]
     },
     "execution_count": 12,
     "metadata": {},
     "output_type": "execute_result"
    }
   ],
   "source": [
    "# plot the histogram for the quasi-distributions\n",
    "# for the two quantum states created before,\n",
    "# namely the excited state |1> and\n",
    "# the quantum superposition state |+>,\n",
    "# measured in the X-Basis\n",
    "plot_histogram( [ quasi_dists_ket_1[0], quasi_dists_ket_plus[0] ],\n",
    "                  legend=legend, title=\"Measurement Results\\n\" )"
   ]
  },
  {
   "cell_type": "markdown",
   "metadata": {},
   "source": [
    "Now we see the opposite: the plus superposition always give the 1 result, hence an eigenstate of the $X$ operator, whereas the excited $|1\\rangle$ yields a roughtly fifty-fifty split. The $|+\\rangle$ and $|-\\rangle$ states are eigenstates of the $X$ operator, with eigenvalues $+1$ and $-1$, respectively. This is good to remember when considering how the `Estimator` works in the next subsection. "
   ]
  },
  {
   "cell_type": "markdown",
   "metadata": {},
   "source": [
    "### Estimator Primitive\n",
    "\n",
    "The IBM's Qiskit Runtime Primitives allow us to abstract measurement into the `Estimator` primitive, where it is specified as an *observable*. In particular, we can construct the same circuits, the excited $|1\\rangle$ and superposition $|+\\rangle$ as before. However, in the case of the `Estimator`, we *do not* add measurements to the circuit. Instead, specify a list of observables which take the form of Pauli strings. In our case for a measurement of a single qubit, we specify `'Z'` for the $Z$-basis and `'X'` for the $X$-basis."
   ]
  },
  {
   "cell_type": "code",
   "execution_count": 13,
   "metadata": {
    "tags": []
   },
   "outputs": [],
   "source": [
    "# create a quantum circuit for one qubit\n",
    "# and to implement an excited state |1>\n",
    "qc2_1 = QuantumCircuit(1)\n",
    "\n",
    "# apply a Pauli-X (bit flip / not) gate to\n",
    "# the quantum circuit, on the 1st qubit\n",
    "qc2_1.x(0)\n",
    "\n",
    "\n",
    "# create a quantum circuit for one qubit\n",
    "# and to implement a quantum superposition state |+>\n",
    "qc2_plus = QuantumCircuit(1)\n",
    "\n",
    "# apply a Hadamard gate to\n",
    "# the quantum circuit, on the 1st qubit\n",
    "qc2_plus.h(0)\n",
    "\n",
    "\n",
    "# create a list for the observables for\n",
    "# the Sparse Pauli-Z and Pauli-X operators\n",
    "obsvs = list( SparsePauliOp( [ \"Z\", \"X\" ] ) )"
   ]
  },
  {
   "cell_type": "code",
   "execution_count": 14,
   "metadata": {
    "tags": []
   },
   "outputs": [],
   "source": [
    "# crate an Estimator object\n",
    "estimator = Estimator()\n",
    "\n",
    "# create a job for the quantum circuit implementing\n",
    "# an excited state |1>, running the Estimator\n",
    "job2_1 = estimator.run( [ qc2_1 ] * len(obsvs), observables=obsvs )\n",
    "\n",
    "# create a job for the quantum circuit implementing\n",
    "# a quantum superposition state |+>, running the Estimator\n",
    "job2_plus = estimator.run( [ qc2_plus ] * len(obsvs), observables=obsvs )"
   ]
  },
  {
   "cell_type": "code",
   "execution_count": 15,
   "metadata": {
    "tags": []
   },
   "outputs": [
    {
     "data": {
      "text/plain": [
       "EstimatorResult(values=array([-1.,  0.]), metadata=[{}, {}])"
      ]
     },
     "execution_count": 15,
     "metadata": {},
     "output_type": "execute_result"
    }
   ],
   "source": [
    "# show the results of the job ran by\n",
    "# the Estimator created before,\n",
    "# that was ran on the excited state |1>,\n",
    "job2_1.result()"
   ]
  },
  {
   "cell_type": "code",
   "execution_count": 16,
   "metadata": {
    "tags": []
   },
   "outputs": [
    {
     "name": "stdout",
     "output_type": "stream",
     "text": [
      "    |   <Z>   |   <X> \n",
      "----|-------------------------------\n",
      "|1> | -1.0    | 0.0\n",
      "|+> |  0.0    | 0.9999999999999998\n"
     ]
    }
   ],
   "source": [
    "# print a table with results (and eigenvalues) for\n",
    "# the quantum states created before and measured in the bases set before\n",
    "print(f'    |   <Z>   |   <X> ')\n",
    "print(f'----|-------------------------------')\n",
    "print(f'|1> | {job2_1.result().values[0]}    | {job2_1.result().values[1]}')\n",
    "print(f'|+> |  {job2_plus.result().values[0]}    | {job2_plus.result().values[1]}')"
   ]
  },
  {
   "cell_type": "markdown",
   "metadata": {},
   "source": [
    "Just as before, we see the $|1\\rangle$ state expectation in the $Z$-basis is $-1$ (corresponding to its eigenvalue) and around zero in the $X$-basis (average over $+1$ and $-1$ eigenvalues), and vice-versa for the $|+\\rangle$ state (although its eigenvalue of the $X$ operators is $+1$)."
   ]
  },
  {
   "cell_type": "markdown",
   "metadata": {},
   "source": [
    "## CHSH Inequality\n",
    "\n",
    "Imagine Alice and Bob are given each one part of a bipartite entangled system. Each of them then performs two measurements on their part in two different bases. Let's call Alice's bases A and a and Bob's B and b. What is the expectation value of the quantity \n",
    "\n",
    "$$\n",
    "\\langle CHSH \\rangle = \\langle AB \\rangle - \\langle Ab \\rangle + \\langle aB \\rangle + \\langle ab \\rangle ?\n",
    "$$\n",
    "\n",
    "Now, Alice and Bob have one qubit each, so any measurement they perform on their system (qubit) can only yield one of two possible outcomes: +1 or -1. Note that whereas we typically refer to the two qubit states as $|0\\rangle$ and $|1\\rangle$, these are eigenstates, and a projective measurement will yield their eigenvalues, +1 and -1, respectively.\n",
    "\n",
    "Therefore, if any measurement of A, a, B, and b can only yield $\\pm 1$, the quantities $(B-b)$ and $(B+b)$ can only be 0 or $\\pm 2$. And thus, the quantity $A(B-b) + a(B+b)$ can only be either +2 or -2, which means that there should be a bound for the expectation value of the quantity we have called\n",
    "\n",
    "$$\n",
    "|\\langle CHSH \\rangle| = |\\langle AB \\rangle - \\langle Ab \\rangle + \\langle aB \\rangle + \\langle ab \\rangle| \\le 2.\n",
    "$$\n",
    "\n",
    "Now, the above discussion is oversimplified, because we could consider that the outcome on any set of measurements from Alice and Bob could depend on a set of local hidden variables, but it can be shown with some math that, even when that is the case, the expectation value of the quantity $CHSH$ should be bounded by 2 if local realism held.\n",
    "\n",
    "But what happens when we do these experiments with an entangled system? Let's try it!"
   ]
  },
  {
   "cell_type": "markdown",
   "metadata": {},
   "source": [
    "The first step is to build the observable\n",
    "$$\n",
    "CHSH = A(B-b) + a(B+b) = AB - Ab + aB +ab\n",
    "$$\n",
    "where $A, a$ are each one of $\\{IX, IZ\\}$ for qubit 0 and $B, b$ are each one of $\\{XI, ZI\\}$ for qubit 1 (corresponding to little-endian notation). Paulis on different qubits can be composed by specifying order with a Pauli string, for example instantiating a `SparsePauliOp` with the `'ZX'` argument implies a measurement of $\\langle X \\rangle$ on `q0` and $\\langle Z \\rangle$ on `q1` . This *tensor* product (combining operations on *different* qubits) can be explicitly stated using the `.tensor()` method. Additionally, combining operations on the *same* qubit(s) uses the *compositional* product with the `.compose()` method. For example, all these statements create the same Pauli operator:\n",
    "\n",
    "```\n",
    "from qiskit.quantum_info import SparsePauliOp\n",
    "\n",
    "ZX = SparsePauliOp('ZX')\n",
    "ZX = SparsePauliOp(['ZX'], coeffs=[1.]) # extendable to a sum of Paulis\n",
    "ZX = SparsePauliOp('Z').tensor(SparsePauliOp('X')) # extendable to a tensor product of Paulis\n",
    "ZX = SparsePauliOp('XZ').compose(SparsePauliOp('YY')) # extendable to a compositional product of Paulis\n",
    "```\n"
   ]
  },
  {
   "cell_type": "markdown",
   "metadata": {},
   "source": [
    "<div class=\"alert alert-block alert-success\"> Ex. 1 - Create an operator for CHSH witness. </div>"
   ]
  },
  {
   "cell_type": "code",
   "execution_count": 17,
   "metadata": {
    "tags": []
   },
   "outputs": [],
   "source": [
    "# import the Sparse Pauli operator from\n",
    "# the IBM's Qiskit quantum information module\n",
    "from qiskit.quantum_info import SparsePauliOp\n",
    "\n",
    "\n",
    "# For Alice: A = Z ; a = X\n",
    "# For Bob: B = Z ; b = X\n",
    "\n",
    "# create the Sparse Pauli operator ZZ, for <AB>\n",
    "ZZ = SparsePauliOp.from_list( [ ( \"ZZ\", 1 ) ] )\n",
    "\n",
    "# create the Sparse Pauli operator ZX, for <Ab>\n",
    "ZX = SparsePauliOp.from_list( [ ( \"ZX\", 1 ) ] )\n",
    "\n",
    "# create the Sparse Pauli operator XZ, for <aB>\n",
    "XZ = SparsePauliOp.from_list( [ ( \"XZ\", 1 ) ] )\n",
    "\n",
    "# create the Sparse Pauli operator XX, for <ab>\n",
    "XX = SparsePauliOp.from_list( [ ( \"XX\", 1 ) ] )\n",
    "\n",
    "\n",
    "# create the list of required\n",
    "# operators ZZ, ZX, XZ, and XX\n",
    "ops = [ ZZ, ZX, XZ, XX ]\n",
    "\n",
    "\n",
    "# there are two possible CHSH witnesses\n",
    "\n",
    "# create operator for CHSH witness <CHSH_1>\n",
    "#     <CHSH_1> = <ZZ> - <ZX> + <XZ> + <XX> (=)\n",
    "# (=) <CHSH_1> = <AB> - <Ab> + <aB> + <ab>\n",
    "#obsv = ops[0] - ops[1] + ops[2] + ops[3]\n",
    "\n",
    "# create operator for CHSH witness <CHSH_2>\n",
    "#     <CHSH_2> = <ZZ> + <ZX> - <XZ> + <XX> (=)\n",
    "# (=) <CHSH_2> = <AB> + <Ab> - <aB> + <ab>\n",
    "obsv = ( ops[0] + ops[1] - ops[2] + ops[3] )"
   ]
  },
  {
   "cell_type": "code",
   "execution_count": 18,
   "metadata": {
    "tags": []
   },
   "outputs": [
    {
     "name": "stdout",
     "output_type": "stream",
     "text": [
      "Submitting your answer. Please wait...\n",
      "Congratulations 🎉! Your answer is correct and has been submitted.\n"
     ]
    }
   ],
   "source": [
    "# import the grader for the exercise 1 of the lab 2\n",
    "from qc_grader.challenges.qgss_2023 import grade_lab2_ex1\n",
    "\n",
    "# grade the exercise 1 of the lab 2\n",
    "grade_lab2_ex1( obsv )"
   ]
  },
  {
   "cell_type": "markdown",
   "metadata": {},
   "source": [
    "### Create Entangled Qubit Pair\n",
    "\n",
    "Next we want to test the $CHSH$ observable on an entangled pair, for example the maximally-entangled Bell state\n",
    "$$\n",
    "|\\Phi\\rangle = \\frac{1}{\\sqrt{2}} \\left(|00\\rangle + |11\\rangle \\right)\n",
    "$$\n",
    "which is created with a Hadamard gate followed by a CNOT with the target on the same qubit as the Hadamard. Due to the simplifaction of measuring in just the $X$- and $Z$-bases as discussed above, we will *rotate* the Bell state around the Bloch sphere which is equivalant to changing the measurement basis as demonstrated in the Warmup section. This can be done by applying an $R_y(\\theta)$ gate where $\\theta$ is a `Parameter` to be specified at the `Estimator` API call. This produces the state\n",
    "$$\n",
    "|\\psi\\rangle = \\frac{1}{\\sqrt{2}} \\left(\\cos(\\theta/2) |00\\rangle + \\sin(\\theta/2)|11\\rangle \\right)\n",
    "$$"
   ]
  },
  {
   "cell_type": "code",
   "execution_count": 19,
   "metadata": {
    "tags": []
   },
   "outputs": [
    {
     "data": {
      "image/png": "[encoded data removed]",
      "text/plain": [
       "<Figure size 370.906x200.667 with 1 Axes>"
      ]
     },
     "execution_count": 19,
     "metadata": {},
     "output_type": "execute_result"
    }
   ],
   "source": [
    "# import the parameter from\n",
    "# the IBM's Qiskit circuit module\n",
    "from qiskit.circuit import Parameter\n",
    "\n",
    "# create a parameter for the theta angle\n",
    "theta = Parameter(\"θ\")\n",
    "\n",
    "\n",
    "# create a quantum circuit for two qubits\n",
    "# and to implement a parametrized quantum entangled pair\n",
    "qc = QuantumCircuit(2)\n",
    "\n",
    "\n",
    "# apply a Hadamard gate to\n",
    "# the quantum circuit, on the 1st qubit\n",
    "qc.h(0)\n",
    "\n",
    "# apply a CX/CNOT gate to\n",
    "# the quantum circuit,\n",
    "# with control on 1st qubit\n",
    "# and target on 2nd qubit\n",
    "qc.cx(0, 1)\n",
    "\n",
    "# apply a RY (Rotation-Y) gate to\n",
    "# the quantum circuit, on the 1st qubit,\n",
    "# with the theta angle defined before\n",
    "qc.ry(theta, 0)\n",
    "\n",
    "\n",
    "# draw the quantum circuit implementing\n",
    "# a parametrized quantum entangled pair\n",
    "qc.draw(\"mpl\")"
   ]
  },
  {
   "cell_type": "markdown",
   "metadata": {},
   "source": [
    "Next we need to specify a `Sequence` of `Parameter`s that show a clear violation of the CHSH Inequality, namely \n",
    "$$\n",
    "|\\langle CHSH \\rangle| > 2.\n",
    "$$\n",
    "Let's make sure we have at least three points in violation."
   ]
  },
  {
   "cell_type": "markdown",
   "metadata": {},
   "source": [
    "<div class=\"alert alert-block alert-success\"> Ex. 2 - Create a Parameterization (i.e., a list or an array) of the angle in the above circuit (in radians).<br>\n",
    "&nbsp;&nbsp;&nbsp;&nbsp;&nbsp;&nbsp;&nbsp;&nbsp;&nbsp;&nbsp;&nbsp;&nbsp;&nbsp;(Hint: Note the `type` for the `parameter_values` argument is `Sequence[Sequence[float]]`).</div>"
   ]
  },
  {
   "cell_type": "code",
   "execution_count": 20,
   "metadata": {
    "tags": []
   },
   "outputs": [],
   "source": [
    "# create a parameterization of theta angles that\n",
    "# will violate the CHSH inequality\n",
    "\n",
    "# number of theta angles to violate the CHSH inequality\n",
    "number_of_phases = 20\n",
    "\n",
    "\n",
    "# for the 1st CHSH witness\n",
    "#     <CHSH_1> = <ZZ> - <ZX> + <XZ> + <XX> (=)\n",
    "# (=) <CHSH_1> = <AB> - <Ab> + <aB> + <ab>\n",
    "#phases_chsh_1_1 = np.linspace(0.5 * np.pi, np.pi, number_of_phases)\n",
    "#phases_chsh_1_2 = np.linspace(1.5 * np.pi, 2 * np.pi, number_of_phases)\n",
    "\n",
    "\n",
    "# create the two lists of theta angles that\n",
    "# violate the CHSH inequality\n",
    "#angles_chsh_1_1 = [[ph] for ph in phases_chsh_1_1]\n",
    "#angles_chsh_1_2 = [[ph] for ph in phases_chsh_1_2]\n",
    "\n",
    "\n",
    "# merge the two lists of theta angles that\n",
    "# violate the CHSH inequality, for the final result\n",
    "#angles = angles_chsh_1_1 + angles_chsh_1_2\n",
    "\n",
    "\n",
    "\n",
    "# for the 2nd CHSH witness\n",
    "#     <CHSH_2> = <ZZ> + <ZX> - <XZ> + <XX> (=)\n",
    "# (=) <CHSH_2> = <AB> + <Ab> - <aB> + <ab>\n",
    "phases_chsh_2_1 = np.linspace( 0, ( 0.5 * np.pi ), number_of_phases )\n",
    "phases_chsh_2_2 = np.linspace( ( 1 * np.pi ) , ( 1.5 * np.pi ), number_of_phases )\n",
    "\n",
    "\n",
    "# create the two lists of theta angles that\n",
    "# violate the CHSH inequality\n",
    "angles_chsh_2_1 = [ [ph] for ph in phases_chsh_2_1 ]\n",
    "angles_chsh_2_2 = [ [ph] for ph in phases_chsh_2_2 ]\n",
    "\n",
    "\n",
    "# merge the two lists of theta angles that\n",
    "# violate the CHSH inequality, for the final result\n",
    "angles = angles_chsh_2_1 + angles_chsh_2_2"
   ]
  },
  {
   "cell_type": "markdown",
   "metadata": {},
   "source": [
    "Test your angles and observable by running with the `Estimator` before submitting to the grader."
   ]
  },
  {
   "cell_type": "code",
   "execution_count": 21,
   "metadata": {
    "tags": []
   },
   "outputs": [
    {
     "data": {
      "text/plain": [
       "<matplotlib.legend.Legend at 0x7fb0fd607fd0>"
      ]
     },
     "execution_count": 21,
     "metadata": {},
     "output_type": "execute_result"
    },
    {
     "data": {
      "image/png": "[encoded data removed]",
      "text/plain": [
       "<Figure size 640x480 with 1 Axes>"
      ]
     },
     "metadata": {},
     "output_type": "display_data"
    }
   ],
   "source": [
    "# crate an Estimator object\n",
    "estimator = Estimator()\n",
    "\n",
    "# create a job for the quantum circuit implementing\n",
    "# a parametrized quantum entangled pair,\n",
    "# varying the elements in the list of\n",
    "# theta angles defined before\n",
    "job = estimator.run( [qc] * len(angles),\n",
    "                     observables=[obsv] * len(angles),\n",
    "                     parameter_values=angles )\n",
    "\n",
    "\n",
    "# retrieve the expectation values\n",
    "# from the results of the job ran by\n",
    "# the Estimator created before,\n",
    "# that was ran on the parametrized\n",
    "# quantum entangled pair\n",
    "exps = job.result().values\n",
    "\n",
    "\n",
    "# plot the angles theta parametrized from the list built before\n",
    "plt.plot( angles, exps, marker='x', ls='-', color=\"green\" )\n",
    "\n",
    "# plot the two classical bounds that violates the CHSH inequality\n",
    "plt.plot( angles, [2]*len(angles), ls=\"--\", color=\"red\", label=\"Classical Bound\" )\n",
    "plt.plot( angles, [-2]*len(angles), ls=\"--\", color=\"red\" )\n",
    "\n",
    "\n",
    "# add the X-axis label to the plot built before\n",
    "plt.xlabel(\"angle (rad)\")\n",
    "\n",
    "# add the Y-axis label to the plot built before\n",
    "plt.ylabel(\"CHSH Witness\")\n",
    "\n",
    "# add the legend to the plot built before\n",
    "plt.legend(loc=4)"
   ]
  },
  {
   "cell_type": "markdown",
   "metadata": {},
   "source": [
    "Did you see at least 3 points outside the red dashed lines? If so, you are ready to send to the grader!"
   ]
  },
  {
   "cell_type": "code",
   "execution_count": 22,
   "metadata": {
    "tags": []
   },
   "outputs": [
    {
     "name": "stdout",
     "output_type": "stream",
     "text": [
      "Submitting your answer. Please wait...\n",
      "Congratulations 🎉! Your answer is correct and has been submitted.\n"
     ]
    }
   ],
   "source": [
    "# import the grader for the exercise 2 of the lab 2\n",
    "from qc_grader.challenges.qgss_2023 import grade_lab2_ex2\n",
    "\n",
    "# grade the exercise 2 of the lab 2\n",
    "grade_lab2_ex2( obsv, angles )"
   ]
  },
  {
   "cell_type": "markdown",
   "metadata": {},
   "source": [
    "# Teleportation\n",
    "\n",
    "Quantum information cannot be copied due to the *No Cloning Theorem*, however it can be \"teleported\" in the sense that a qubit can be entangled with a quantum resource, and via a protocol of measurements and *classical communication* of their results, the original quantum state can be reconstructed on a different qubit. This process destroys the information in the original qubit via measurement.\n",
    "\n",
    "In this exercise, we will construct a particular qubit state and then transfer that state to another qubit using the teleportation protocol. Here we will be looking at specific classical and quantum registers, so we need to import those."
   ]
  },
  {
   "cell_type": "code",
   "execution_count": 23,
   "metadata": {
    "tags": []
   },
   "outputs": [],
   "source": [
    "# import the classical and quantum registers\n",
    "# from the IBM's Qiksit circuit module\n",
    "from qiskit.circuit import ClassicalRegister, QuantumRegister"
   ]
  },
  {
   "cell_type": "markdown",
   "metadata": {},
   "source": [
    "### Create the circuit\n",
    "\n",
    "Define an angle $\\theta$ to rotate our qubit by. This will allow us to easily make comparisons for the original state and the teleported quantum state."
   ]
  },
  {
   "cell_type": "code",
   "execution_count": 24,
   "metadata": {
    "tags": []
   },
   "outputs": [
    {
     "data": {
      "image/png": "[encoded data removed]",
      "text/plain": [
       "<Figure size 185.453x117.056 with 1 Axes>"
      ]
     },
     "execution_count": 24,
     "metadata": {},
     "output_type": "execute_result"
    }
   ],
   "source": [
    "# create a parameter for the theta angle\n",
    "theta = Parameter(\"θ\")\n",
    "\n",
    "\n",
    "# create a quantum register for one qubit\n",
    "# and to implement a parametrized quantum operation\n",
    "qr = QuantumRegister(1, \"q\")\n",
    "\n",
    "# create a quantum circuit with\n",
    "# the quantum register created before\n",
    "qc = QuantumCircuit(qr)\n",
    "\n",
    "\n",
    "# apply a RY (Rotation-Y) gate to\n",
    "# the quantum circuit, on the 1st qubit,\n",
    "# with the theta angle defined before\n",
    "qc.ry(theta, 0)\n",
    "\n",
    "\n",
    "# draw the quantum circuit implementing\n",
    "# a parametrized quantum operation\n",
    "qc.draw(\"mpl\")"
   ]
  },
  {
   "cell_type": "markdown",
   "metadata": {},
   "source": [
    "Alice possesses the quantum information $|\\psi\\rangle$ in the state of $q$ and wishes to transfer it to Bob. The resource they share is a special entangled state called a Bell state:\n",
    "\n",
    "$$\n",
    "|\\Phi^+\\rangle = \\frac{1}{2} \\left( |00\\rangle + |11\\rangle \\right)\n",
    "$$\n",
    "\n",
    "Here, the first of the pair going to Alice and the second to Bob. Hence, Alice has a 2-qubit register ($q$ and $Bell_0$) and Bob has a single-qubit register ($Bell_1$). We will construct the circuit by copying the original `qc` and adding the appropriate registers."
   ]
  },
  {
   "cell_type": "code",
   "execution_count": 25,
   "metadata": {
    "tags": []
   },
   "outputs": [
    {
     "data": {
      "image/png": "[encoded data removed]",
      "text/plain": [
       "<Figure size 239.337x451.5 with 1 Axes>"
      ]
     },
     "execution_count": 25,
     "metadata": {},
     "output_type": "execute_result"
    }
   ],
   "source": [
    "# create a copy of the quantum circuit defined before\n",
    "# to initialize the quantum circuit implementing\n",
    "# a parametrized quantum teleportation\n",
    "tele_qc = qc.copy()\n",
    "\n",
    "\n",
    "# create a quantum register with two qubits\n",
    "# for the Bell State to be shared on\n",
    "# the parametrized quantum teleportation\n",
    "bell = QuantumRegister(2, \"Bell\")\n",
    "\n",
    "# create a classical register with two qubits\n",
    "# for Alice's part on the parametrized\n",
    "# quantum teleportation\n",
    "alice = ClassicalRegister(2, \"Alice\")\n",
    "\n",
    "# create a classical register with one qubit\n",
    "# for Bob's part on the parametrized\n",
    "# quantum teleportation\n",
    "bob = ClassicalRegister(1, \"Bob\")\n",
    "\n",
    "\n",
    "# add all the quantum and classical registers\n",
    "# created before to the quantum circuit implementing\n",
    "# a parametrized quantum teleportation\n",
    "tele_qc.add_register(bell, alice, bob)\n",
    "\n",
    "\n",
    "# draw the quantum circuit implementing\n",
    "# the 1st step of a parametrized\n",
    "# quantum teleportation\n",
    "tele_qc.draw(\"mpl\")"
   ]
  },
  {
   "cell_type": "markdown",
   "metadata": {},
   "source": [
    "Now create the Bell pair with $Bell_0$ going to Alice and $Bell_1$ going to Bob. This is done by using a Hadamard gate to put $Bell_0$ in the $|+\\rangle$ state and then performing a CNOT with the same qubit as the control. After they receive their respective qubit, they part ways."
   ]
  },
  {
   "cell_type": "code",
   "execution_count": 26,
   "metadata": {
    "tags": []
   },
   "outputs": [
    {
     "data": {
      "image/png": "[encoded data removed]",
      "text/plain": [
       "<Figure size 573.781x451.5 with 1 Axes>"
      ]
     },
     "execution_count": 26,
     "metadata": {},
     "output_type": "execute_result"
    }
   ],
   "source": [
    "# add a barrier to the quantum circuit implementing\n",
    "# a parametrized quantum teleportation\n",
    "tele_qc.barrier()\n",
    "\n",
    "\n",
    "# create Bell state with the other two qubits,\n",
    "# in the quantum register defined before\n",
    "# for that purpose\n",
    "\n",
    "# apply a Hadamard gate to\n",
    "# the quantum circuit, on the 2nd qubit\n",
    "tele_qc.h(1)\n",
    "\n",
    "# apply a CX/CNOT gate to\n",
    "# the quantum circuit,\n",
    "# with control on 2nd qubit\n",
    "# and target on 3rd qubit\n",
    "tele_qc.cx(1, 2)\n",
    "\n",
    "\n",
    "# add a barrier to the quantum circuit implementing\n",
    "# a parametrized quantum teleportation\n",
    "tele_qc.barrier()\n",
    "\n",
    "\n",
    "# draw the quantum circuit implementing\n",
    "# the 2nd step of a parametrized\n",
    "# quantum teleportation\n",
    "tele_qc.draw(\"mpl\")"
   ]
  },
  {
   "cell_type": "markdown",
   "metadata": {},
   "source": [
    "Next, Alice performs a CNOT controlled by $q$ on $Bell_0$, which maps information about the state onto it. She then applies a Hadamard gate on $q$."
   ]
  },
  {
   "cell_type": "code",
   "execution_count": 27,
   "metadata": {
    "tags": []
   },
   "outputs": [
    {
     "data": {
      "image/png": "[encoded data removed]",
      "text/plain": [
       "<Figure size 824.615x451.5 with 1 Axes>"
      ]
     },
     "execution_count": 27,
     "metadata": {},
     "output_type": "execute_result"
    }
   ],
   "source": [
    "# operations for Alice perform on her qubits\n",
    "# during the parametrized quantum teleportation\n",
    "\n",
    "# apply a CX/CNOT gate to\n",
    "# the quantum circuit,\n",
    "# with control on 1sr qubit\n",
    "# and target on 2nd qubit\n",
    "tele_qc.cx(0, 1)\n",
    "\n",
    "# apply a Hadamard gate to\n",
    "# the quantum circuit, on the 1st qubit\n",
    "tele_qc.h(0)\n",
    "\n",
    "\n",
    "# add a barrier to the quantum circuit implementing\n",
    "# a parametrized quantum teleportation\n",
    "tele_qc.barrier()\n",
    "\n",
    "# draw the quantum circuit implementing\n",
    "# the 3rd step of a parametrized\n",
    "# quantum teleportation\n",
    "tele_qc.draw(\"mpl\")"
   ]
  },
  {
   "cell_type": "markdown",
   "metadata": {},
   "source": [
    "Now Alice measures her qubits and saves the results to her register."
   ]
  },
  {
   "cell_type": "code",
   "execution_count": 28,
   "metadata": {
    "tags": []
   },
   "outputs": [
    {
     "data": {
      "image/png": "[encoded data removed]",
      "text/plain": [
       "<Figure size 991.837x451.5 with 1 Axes>"
      ]
     },
     "execution_count": 28,
     "metadata": {},
     "output_type": "execute_result"
    }
   ],
   "source": [
    "# measurements performed by Alice on\n",
    "# the qubit q and on her part of the Bell State,\n",
    "# performing the entanglement swapping\n",
    "tele_qc.measure( [ qr[0], bell[0] ], alice )\n",
    "\n",
    "# draw the quantum circuit implementing\n",
    "# the 4th step of a parametrized\n",
    "# quantum teleportation\n",
    "tele_qc.draw(\"mpl\")"
   ]
  },
  {
   "cell_type": "markdown",
   "metadata": {},
   "source": [
    "Bob's qubit now has the information $|\\psi\\rangle$ from Alice's qubit $q$ encoded in $Bell_1$, but he does not know what basis to measure in to extract it. Accordingly, Alice must share the information in her register over a *classical* communication channel (this is why teleportation does not violate special relativity, no matter how far Alice and Bob are apart). She instructs Bob to perform an X gate on his qubit if her measurement of $Bell_0$ yields a 1 outcome, followed by a Z gate if her measurement of $q$ yields a 1.\n",
    "\n",
    "The applications of these gates can be conditioned on the measurement outcomes in two ways:\n",
    "- The `.c_if()` [instruction](https://qiskit.org/documentation/stubs/qiskit.circuit.Instruction.c_if.html), which applies the gate it modifies if the value of the `ClassicalRegister` index is equal to the value specified. Note that this works **only** on simulators;\n",
    "- The `.if_test()` [context](https://qiskit.org/documentation/stubs/qiskit.circuit.QuantumCircuit.if_test.html) which operates similarly, but generalizes the syntax to allow for nested conditionals. This works on both simulators and actual hardware."
   ]
  },
  {
   "cell_type": "markdown",
   "metadata": {},
   "source": [
    "<div class=\"alert alert-block alert-success\"> Ex. 3 - Add approriate conditional gates to transform Bob's qubit into the $Z$-basis. </div>"
   ]
  },
  {
   "cell_type": "code",
   "execution_count": 29,
   "metadata": {
    "tags": []
   },
   "outputs": [
    {
     "data": {
      "image/png": "[encoded data removed]",
      "text/plain": [
       "<Figure size 1159.06x451.5 with 1 Axes>"
      ]
     },
     "execution_count": 29,
     "metadata": {},
     "output_type": "execute_result"
    }
   ],
   "source": [
    "# create a copy of the quantum circuit defined before\n",
    "# to initialize the quantum circuit implementing\n",
    "# a parametrized quantum teleportation,\n",
    "# and to be graded with dynamic operations \n",
    "graded_qc = tele_qc.copy()\n",
    "\n",
    "\n",
    "##############################\n",
    "\n",
    "# add gates to graded_qc here\n",
    "\n",
    "# Bob, who already has the qubit teleported,\n",
    "# applies the following gates depending on\n",
    "# the state of the classical bits:\n",
    "# 00 -> Do nothing\n",
    "# 01 -> Apply X gate\n",
    "# 10 -> Apply Z gate\n",
    "# 11 -> Apply ZX gate\n",
    "\n",
    "# apply the Pauli-X (bit flip / not) gate on\n",
    "# the 2nd qubit of the Bell state if\n",
    "# the Alice's 2nd classical bit is 1\n",
    "graded_qc.x( bell[1] ).c_if( alice[1], 1 )\n",
    "\n",
    "# apply the Pauli-Z (phase flip) gate on\n",
    "# the 2nd qubit of the Bell state if\n",
    "# the Alice's 1st classical bit is 1\n",
    "graded_qc.z( bell[1] ).c_if( alice[0], 1 )\n",
    "\n",
    "##############################\n",
    "\n",
    "\n",
    "# draw the quantum circuit implementing\n",
    "# the parametrized quantum teleportation, to be graded\n",
    "graded_qc.draw(\"mpl\")"
   ]
  },
  {
   "cell_type": "markdown",
   "metadata": {},
   "source": [
    "Finally, Bob can measure his qubit, which would yield results with the same probabilities as had Alice measured it originally."
   ]
  },
  {
   "cell_type": "code",
   "execution_count": 30,
   "metadata": {
    "tags": []
   },
   "outputs": [
    {
     "data": {
      "image/png": "[encoded data removed]",
      "text/plain": [
       "<Figure size 1326.28x451.5 with 1 Axes>"
      ]
     },
     "execution_count": 30,
     "metadata": {},
     "output_type": "execute_result"
    }
   ],
   "source": [
    "# add a barrier to the quantum circuit implementing\n",
    "# a parametrized quantum teleportation, to be graded\n",
    "graded_qc.barrier()\n",
    "\n",
    "\n",
    "# measure the 2nd qubit of the Bell state to\n",
    "# the Bob's classical register\n",
    "graded_qc.measure( bell[1], bob )\n",
    "\n",
    "\n",
    "# draw the quantum circuit implementing\n",
    "# a parametrized quantum teleportation, to be graded\n",
    "graded_qc.draw(\"mpl\")"
   ]
  },
  {
   "cell_type": "code",
   "execution_count": 31,
   "metadata": {
    "tags": []
   },
   "outputs": [
    {
     "name": "stdout",
     "output_type": "stream",
     "text": [
      "Submitting your answer. Please wait...\n",
      "Congratulations 🎉! Your answer is correct and has been submitted.\n"
     ]
    }
   ],
   "source": [
    "# import the grader for the exercise 3 of the lab 2\n",
    "from qc_grader.challenges.qgss_2023 import grade_lab2_ex3\n",
    "\n",
    "# grade the exercise 3 of the lab 2\n",
    "grade_lab2_ex3( graded_qc, theta, 5 * ( np.pi / 7 ) )"
   ]
  },
  {
   "cell_type": "markdown",
   "metadata": {},
   "source": [
    "The statevector simulator cannot work with dynamic circuits because measurement is not a unitary operation. Therefore we import the `Sampler` primitive from `qiskit_aer` to use the `AerSimulator`. We choose our angle to be $5\\pi/7$, which will yield a 1 result about 80\\% of the time and 0 result about 20\\% of the time. Then we run both circuits: the original one Alice had and the teleported one Bob receives. "
   ]
  },
  {
   "cell_type": "code",
   "execution_count": 32,
   "metadata": {
    "tags": []
   },
   "outputs": [
    {
     "name": "stdout",
     "output_type": "stream",
     "text": [
      "Original Dists.: {'0': 0.1943359375, '1': 0.8056640625}\n",
      "Teleported Dists.: {'000': 0.044921875, '010': 0.0498046875, '001': 0.0400390625, '100': 0.2177734375, '101': 0.20703125, '110': 0.1884765625, '011': 0.048828125, '111': 0.203125}\n"
     ]
    }
   ],
   "source": [
    "# impor the Sampler from the IBM's Qiskit\n",
    "# Aer primitives module\n",
    "from qiskit_aer.primitives import Sampler\n",
    "\n",
    "\n",
    "# define the pretended theta angle\n",
    "angle = 5 * ( np.pi / 7 ) \n",
    "\n",
    "\n",
    "# create a Sampler object\n",
    "sampler = Sampler()\n",
    "\n",
    "\n",
    "# measure all the qubits on the quantum circuit\n",
    "# implementing a parametrized quantum teleportation\n",
    "qc.measure_all()\n",
    "\n",
    "\n",
    "# create a job for the quantum circuit implementing\n",
    "# a parametrized quantum teleportation,\n",
    "# with a static quantum circuit and\n",
    "# with the theta angle defined before\n",
    "job_static = sampler.run( qc.bind_parameters({theta: angle}) )\n",
    "\n",
    "# create a job for the quantum circuit implementing\n",
    "# a parametrized quantum teleportation,\n",
    "# with a dynamic quantum circuit and\n",
    "# with the theta angle defined before\n",
    "job_dynamic = sampler.run( graded_qc.bind_parameters({theta: angle}) )\n",
    "\n",
    "\n",
    "# print the measurement distributions of the qubits from\n",
    "# the parametrized quantum teleportation, with a static quantum circuit\n",
    "print( f\"Original Dists.: {job_static.result().quasi_dists[0].binary_probabilities()}\" )\n",
    "\n",
    "# print the measurement distributions of the qubits from\n",
    "# the parametrized quantum teleportation, with a dynamic quantum circuit\n",
    "print( f\"Teleported Dists.: {job_dynamic.result().quasi_dists[0].binary_probabilities()}\" )"
   ]
  },
  {
   "cell_type": "markdown",
   "metadata": {},
   "source": [
    "Wait, we see different results! While measuring Alice's original $q$ yields the expected ratio of outcomes, the teleported distributions have many more values. This is because the teleported circuit includes Alice's measurements of $q$ and $Bell_0$, whereas we only wish to see Bob's measurements of $Bell_1$ yield the same distribution. \n",
    "\n",
    "In order to rectify this, we must take the *marginal* counts, meaning we combine results in which Bob measures a 0 and all the results in which Bob measures a 1 over all the possible combinations. This is done with the `marginal_counts` [method](https://qiskit.org/documentation/stubs/qiskit.result.marginal_counts.html) from `qiskit.result`, which combines results over measurement indices."
   ]
  },
  {
   "cell_type": "markdown",
   "metadata": {},
   "source": [
    "<div class=\"alert alert-block alert-success\"> Ex. 4 - Marginalize the counts from measuring the teleported quantum state. <br>\n",
    "&nbsp;&nbsp;&nbsp;&nbsp;&nbsp;&nbsp;&nbsp;&nbsp;&nbsp;&nbsp;&nbsp;&nbsp;(Hint: Remember that bit strings are reported in the little-endian convention).</div>"
   ]
  },
  {
   "cell_type": "code",
   "execution_count": 33,
   "metadata": {
    "tags": []
   },
   "outputs": [],
   "source": [
    "# import the counts marginalization from\n",
    "# the IBM's Qiskit result module\n",
    "from qiskit.result import marginal_counts\n",
    "\n",
    "# marginalize counts from the quasi-distributitions\n",
    "# obtained from the parametrized quantum teleportation\n",
    "tele_counts = marginal_counts( job_dynamic.result().quasi_dists[0]\n",
    "                               .binary_probabilities(), [2] )"
   ]
  },
  {
   "cell_type": "markdown",
   "metadata": {},
   "source": [
    "If we marginalized correctly, we will see that the quasi-distributions from Alice's measurement and Bob's measurement are nearly identical, demonstrating that teleportation was successful!"
   ]
  },
  {
   "cell_type": "code",
   "execution_count": 34,
   "metadata": {
    "tags": []
   },
   "outputs": [
    {
     "data": {
      "image/png": "[encoded data removed]",
      "text/plain": [
       "<Figure size 700x500 with 1 Axes>"
      ]
     },
     "execution_count": 34,
     "metadata": {},
     "output_type": "execute_result"
    }
   ],
   "source": [
    "# create the legend for the two quantum states\n",
    "# created before, namely the original quantum state to\n",
    "# be teleported and the quantum state which was indeed teleported\n",
    "legend = [ \"Original State\", \"Teleported State\" ]\n",
    "\n",
    "# plot the histogram for the quasi-distributions\n",
    "# for the two quantum states created before,\n",
    "# namely the original quantum state to be teleported\n",
    "# and the quantum state which was indeed teleported\n",
    "plot_histogram( [ job_static.result().quasi_dists[0]\n",
    "                  .binary_probabilities(), tele_counts ], legend=legend )"
   ]
  },
  {
   "cell_type": "code",
   "execution_count": 35,
   "metadata": {
    "tags": []
   },
   "outputs": [
    {
     "name": "stdout",
     "output_type": "stream",
     "text": [
      "Submitting your answer. Please wait...\n",
      "Congratulations 🎉! Your answer is correct and has been submitted.\n"
     ]
    }
   ],
   "source": [
    "# import the grader for the exercise 4 of the lab 2\n",
    "from qc_grader.challenges.qgss_2023 import grade_lab2_ex4\n",
    "\n",
    "# grade the exercise 4 of the lab 2\n",
    "grade_lab2_ex4( tele_counts, job_dynamic.result() )"
   ]
  },
  {
   "cell_type": "code",
   "execution_count": 36,
   "metadata": {
    "tags": []
   },
   "outputs": [
    {
     "data": {
      "text/html": [
       "<h3>Version Information</h3><table><tr><th>Qiskit Software</th><th>Version</th></tr><tr><td><code>qiskit-terra</code></td><td>0.24.1</td></tr><tr><td><code>qiskit-aer</code></td><td>0.12.1</td></tr><tr><td><code>qiskit-ibmq-provider</code></td><td>0.20.2</td></tr><tr><td><code>qiskit</code></td><td>0.43.2</td></tr><tr><td><code>qiskit-nature</code></td><td>0.6.2</td></tr><tr><td><code>qiskit-finance</code></td><td>0.3.4</td></tr><tr><td><code>qiskit-optimization</code></td><td>0.5.0</td></tr><tr><td><code>qiskit-machine-learning</code></td><td>0.6.1</td></tr><tr><th>System information</th></tr><tr><td>Python version</td><td>3.10.8</td></tr><tr><td>Python compiler</td><td>GCC 10.4.0</td></tr><tr><td>Python build</td><td>main, Nov 22 2022 08:26:04</td></tr><tr><td>OS</td><td>Linux</td></tr><tr><td>CPUs</td><td>8</td></tr><tr><td>Memory (Gb)</td><td>31.211322784423828</td></tr><tr><td colspan='2'>Tue Aug 01 14:25:37 2023 UTC</td></tr></table>"
      ],
      "text/plain": [
       "<IPython.core.display.HTML object>"
      ]
     },
     "metadata": {},
     "output_type": "display_data"
    }
   ],
   "source": [
    "# import the IBM's Qiskit Jupyter Tools\n",
    "import qiskit.tools.jupyter\n",
    "\n",
    "# show the table of the IBM's Qiskit version\n",
    "%qiskit_version_table"
   ]
  },
  {
   "cell_type": "markdown",
   "metadata": {
    "tags": []
   },
   "source": [
    "Congratulations! You finished Lab 2 of the IBM's Qiskit Global Summer School 2023! 🎉 🎉 🎉"
   ]
  },
  {
   "cell_type": "markdown",
   "metadata": {},
   "source": [
    "Made with ❤ by Rúben André Barreiro (and adapted from IBM Quantum)."
   ]
  }
 ],
 "metadata": {
  "kernelspec": {
   "display_name": "Python 3 (ipykernel)",
   "language": "python",
   "name": "python3"
  },
  "language_info": {
   "codemirror_mode": {
    "name": "ipython",
    "version": 3
   },
   "file_extension": ".py",
   "mimetype": "text/x-python",
   "name": "python",
   "nbconvert_exporter": "python",
   "pygments_lexer": "ipython3",
   "version": "3.10.8"
  },
  "widgets": {
   "application/vnd.jupyter.widget-state+json": {
    "state": {
     "061f35257928426cb15a2c0b3008f102": {
      "model_module": "@jupyter-widgets/base",
      "model_module_version": "2.0.0",
      "model_name": "LayoutModel",
      "state": {
       "width": "190px"
      }
     },
     "0e5c4cc9e515421bbf7e81a7f1948697": {
      "model_module": "@jupyter-widgets/controls",
      "model_module_version": "2.0.0",
      "model_name": "HTMLStyleModel",
      "state": {
       "description_width": "",
       "font_size": null,
       "text_color": null
      }
     },
     "10fc9717efa34717ae6b284791043150": {
      "model_module": "@jupyter-widgets/base",
      "model_module_version": "2.0.0",
      "model_name": "LayoutModel",
      "state": {
       "width": "145px"
      }
     },
     "17fe1930daae488e8de1bc6c11d2e783": {
      "model_module": "@jupyter-widgets/controls",
      "model_module_version": "2.0.0",
      "model_name": "HTMLModel",
      "state": {
       "layout": "IPY_MODEL_061f35257928426cb15a2c0b3008f102",
       "style": "IPY_MODEL_92dee745f2494d1484e44b1c1e9d8ad3",
       "value": "<h5>Job ID</h5>"
      }
     },
     "2550980d39614b7591e6bb402497f7d0": {
      "model_module": "@jupyter-widgets/base",
      "model_module_version": "2.0.0",
      "model_name": "LayoutModel",
      "state": {
       "grid_area": "right",
       "padding": "0px 0px 0px 0px",
       "width": "70px"
      }
     },
     "25f637f961a34bf6ac4e89585d9781bf": {
      "model_module": "@jupyter-widgets/controls",
      "model_module_version": "2.0.0",
      "model_name": "HTMLStyleModel",
      "state": {
       "description_width": "",
       "font_size": null,
       "text_color": null
      }
     },
     "3505a5ef9ee54107827516350d14de6e": {
      "model_module": "@jupyter-widgets/base",
      "model_module_version": "2.0.0",
      "model_name": "LayoutModel",
      "state": {
       "width": "95px"
      }
     },
     "3ab7200d2bf54f51baf87f9d3a6b02f3": {
      "model_module": "@jupyter-widgets/base",
      "model_module_version": "2.0.0",
      "model_name": "LayoutModel",
      "state": {
       "grid_template_areas": "\n                                       \". . . . right \"\n                                        ",
       "grid_template_columns": "20% 20% 20% 20% 20%",
       "width": "100%"
      }
     },
     "3d4742589aee4b28a5934377697433aa": {
      "model_module": "@jupyter-widgets/base",
      "model_module_version": "2.0.0",
      "model_name": "LayoutModel",
      "state": {
       "width": "70px"
      }
     },
     "40e96b938e274c6c8e3ff188c4e02763": {
      "model_module": "@jupyter-widgets/controls",
      "model_module_version": "2.0.0",
      "model_name": "HTMLModel",
      "state": {
       "layout": "IPY_MODEL_10fc9717efa34717ae6b284791043150",
       "style": "IPY_MODEL_58ec59f81a7f4a2ebcfc5fa6a28f0709",
       "value": "<h5>Backend</h5>"
      }
     },
     "47fc19189ffe472f999ea203183b5283": {
      "model_module": "@jupyter-widgets/base",
      "model_module_version": "2.0.0",
      "model_name": "LayoutModel",
      "state": {}
     },
     "49e394a80a9d49588561229dc0001de3": {
      "model_module": "@jupyter-widgets/controls",
      "model_module_version": "2.0.0",
      "model_name": "ButtonStyleModel",
      "state": {
       "font_family": null,
       "font_size": null,
       "font_style": null,
       "font_variant": null,
       "font_weight": null,
       "text_color": null,
       "text_decoration": null
      }
     },
     "51c9c01b15154b08840f00d6a07cff4d": {
      "model_module": "@jupyter-widgets/controls",
      "model_module_version": "2.0.0",
      "model_name": "ButtonModel",
      "state": {
       "button_style": "primary",
       "description": "Clear",
       "layout": "IPY_MODEL_2550980d39614b7591e6bb402497f7d0",
       "style": "IPY_MODEL_49e394a80a9d49588561229dc0001de3",
       "tooltip": null
      }
     },
     "58ec59f81a7f4a2ebcfc5fa6a28f0709": {
      "model_module": "@jupyter-widgets/controls",
      "model_module_version": "2.0.0",
      "model_name": "HTMLStyleModel",
      "state": {
       "description_width": "",
       "font_size": null,
       "text_color": null
      }
     },
     "7f477caeed3e414fb6a4ab24b9dece14": {
      "model_module": "@jupyter-widgets/controls",
      "model_module_version": "2.0.0",
      "model_name": "HTMLStyleModel",
      "state": {
       "description_width": "",
       "font_size": null,
       "text_color": null
      }
     },
     "92dee745f2494d1484e44b1c1e9d8ad3": {
      "model_module": "@jupyter-widgets/controls",
      "model_module_version": "2.0.0",
      "model_name": "HTMLStyleModel",
      "state": {
       "description_width": "",
       "font_size": null,
       "text_color": null
      }
     },
     "9548905a190a484aa4f64b510194cf0d": {
      "model_module": "@jupyter-widgets/base",
      "model_module_version": "2.0.0",
      "model_name": "LayoutModel",
      "state": {
       "margin": "0px 0px 0px 37px",
       "width": "600px"
      }
     },
     "a8efed7eead54bc6b7d7c4a2051f92d8": {
      "model_module": "@jupyter-widgets/controls",
      "model_module_version": "2.0.0",
      "model_name": "GridBoxModel",
      "state": {
       "children": [
        "IPY_MODEL_51c9c01b15154b08840f00d6a07cff4d"
       ],
       "layout": "IPY_MODEL_3ab7200d2bf54f51baf87f9d3a6b02f3"
      }
     },
     "af9fa4188de949d8a47eb0258cc5a25c": {
      "model_module": "@jupyter-widgets/controls",
      "model_module_version": "2.0.0",
      "model_name": "HTMLModel",
      "state": {
       "layout": "IPY_MODEL_3505a5ef9ee54107827516350d14de6e",
       "style": "IPY_MODEL_7f477caeed3e414fb6a4ab24b9dece14",
       "value": "<h5>Status</h5>"
      }
     },
     "bb9fc3dcb7494ff988d847358b766696": {
      "model_module": "@jupyter-widgets/controls",
      "model_module_version": "2.0.0",
      "model_name": "HTMLModel",
      "state": {
       "layout": "IPY_MODEL_d746227d924c42009e2e507f70803a23",
       "style": "IPY_MODEL_0e5c4cc9e515421bbf7e81a7f1948697",
       "value": "<p style='font-family: IBM Plex Sans, Arial, Helvetica, sans-serif; font-size: 20px; font-weight: medium;'>Circuit Properties</p>"
      }
     },
     "c59c0607ef914d6aa07008f71143a639": {
      "model_module": "@jupyter-widgets/controls",
      "model_module_version": "2.0.0",
      "model_name": "HTMLModel",
      "state": {
       "layout": "IPY_MODEL_3d4742589aee4b28a5934377697433aa",
       "style": "IPY_MODEL_de6d10f0dedd49ce85e8a081598a3af5",
       "value": "<h5>Queue</h5>"
      }
     },
     "d746227d924c42009e2e507f70803a23": {
      "model_module": "@jupyter-widgets/base",
      "model_module_version": "2.0.0",
      "model_name": "LayoutModel",
      "state": {
       "margin": "0px 0px 10px 0px"
      }
     },
     "de6d10f0dedd49ce85e8a081598a3af5": {
      "model_module": "@jupyter-widgets/controls",
      "model_module_version": "2.0.0",
      "model_name": "HTMLStyleModel",
      "state": {
       "description_width": "",
       "font_size": null,
       "text_color": null
      }
     },
     "e5cb96fa714f4b73b6ec7dc214f51b87": {
      "model_module": "@jupyter-widgets/controls",
      "model_module_version": "2.0.0",
      "model_name": "HTMLModel",
      "state": {
       "layout": "IPY_MODEL_47fc19189ffe472f999ea203183b5283",
       "style": "IPY_MODEL_25f637f961a34bf6ac4e89585d9781bf",
       "value": "<h5>Message</h5>"
      }
     },
     "f12b46cb5d1e4a2081a05ecd2ccc936b": {
      "model_module": "@jupyter-widgets/controls",
      "model_module_version": "2.0.0",
      "model_name": "HBoxModel",
      "state": {
       "children": [
        "IPY_MODEL_17fe1930daae488e8de1bc6c11d2e783",
        "IPY_MODEL_40e96b938e274c6c8e3ff188c4e02763",
        "IPY_MODEL_af9fa4188de949d8a47eb0258cc5a25c",
        "IPY_MODEL_c59c0607ef914d6aa07008f71143a639",
        "IPY_MODEL_e5cb96fa714f4b73b6ec7dc214f51b87"
       ],
       "layout": "IPY_MODEL_9548905a190a484aa4f64b510194cf0d"
      }
     }
    },
    "version_major": 2,
    "version_minor": 0
   }
  }
 },
 "nbformat": 4,
 "nbformat_minor": 4
}
